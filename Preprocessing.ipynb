{
  "nbformat": 4,
  "nbformat_minor": 0,
  "metadata": {
    "colab": {
      "provenance": []
    },
    "kernelspec": {
      "name": "python3",
      "display_name": "Python 3"
    },
    "language_info": {
      "name": "python"
    }
  },
  "cells": [
    {
      "cell_type": "code",
      "execution_count": 1,
      "metadata": {
        "colab": {
          "base_uri": "https://localhost:8080/"
        },
        "id": "hEFUx0lZ4wsj",
        "outputId": "8173ef0a-1032-461d-f581-62f6b72eef5d"
      },
      "outputs": [
        {
          "output_type": "stream",
          "name": "stdout",
          "text": [
            "Initial DataFrame:\n",
            "                              address  year  day  length    weight  count  \\\n",
            "0   111K8kZAEnJg245r2cM6y9zgJGHZtJPy6  2017   11      18  0.008333    1.0   \n",
            "1  1123pJv8jzeFQaCV4w644pzQJzVWay2zcA  2016  132      44  0.000244    1.0   \n",
            "2  112536im7hy6wtKbpH1qYDWtTyMRAcA2p7  2016  246       0  1.000000    1.0   \n",
            "3  1126eDRw2wqSkWosjTCre8cjjQW8sSeWH7  2016  322      72  0.003906    1.0   \n",
            "4  1129TSjKtx65E35GiUo4AYVeyo48twbrGX  2016  238     144  0.072848  456.0   \n",
            "\n",
            "   looped  neighbors       income            label  \n",
            "0     0.0        2.0  100050000.0  princetonCerber  \n",
            "1     0.0        1.0  100000000.0   princetonLocky  \n",
            "2     0.0        2.0  200000000.0  princetonCerber  \n",
            "3     0.0        2.0   71200000.0  princetonCerber  \n",
            "4     0.0        1.0  200000000.0   princetonLocky  \n"
          ]
        }
      ],
      "source": [
        "import pandas as pd\n",
        "from sklearn.preprocessing import LabelEncoder\n",
        "\n",
        "\n",
        "df = pd.read_csv('BHD1.csv')\n",
        "print(\"Initial DataFrame:\")\n",
        "print(df.head())\n",
        "\n"
      ]
    },
    {
      "cell_type": "code",
      "source": [
        "\n",
        "df.dropna(inplace=True)\n",
        "\n",
        "df['weight_binary'] = df['weight'].apply(lambda x: 1 if x > 1 else 0)\n",
        "print(\"DataFrame after adding weight_binary column:\")\n",
        "print(df.head())"
      ],
      "metadata": {
        "colab": {
          "base_uri": "https://localhost:8080/"
        },
        "id": "l4Sj1vRi49-x",
        "outputId": "0a8146b7-7b05-457a-943f-3d6c3f7ae382"
      },
      "execution_count": 2,
      "outputs": [
        {
          "output_type": "stream",
          "name": "stdout",
          "text": [
            "DataFrame after adding weight_binary column:\n",
            "                              address  year  day  length    weight  count  \\\n",
            "0   111K8kZAEnJg245r2cM6y9zgJGHZtJPy6  2017   11      18  0.008333    1.0   \n",
            "1  1123pJv8jzeFQaCV4w644pzQJzVWay2zcA  2016  132      44  0.000244    1.0   \n",
            "2  112536im7hy6wtKbpH1qYDWtTyMRAcA2p7  2016  246       0  1.000000    1.0   \n",
            "3  1126eDRw2wqSkWosjTCre8cjjQW8sSeWH7  2016  322      72  0.003906    1.0   \n",
            "4  1129TSjKtx65E35GiUo4AYVeyo48twbrGX  2016  238     144  0.072848  456.0   \n",
            "\n",
            "   looped  neighbors       income            label  weight_binary  \n",
            "0     0.0        2.0  100050000.0  princetonCerber              0  \n",
            "1     0.0        1.0  100000000.0   princetonLocky              0  \n",
            "2     0.0        2.0  200000000.0  princetonCerber              0  \n",
            "3     0.0        2.0   71200000.0  princetonCerber              0  \n",
            "4     0.0        1.0  200000000.0   princetonLocky              0  \n"
          ]
        }
      ]
    },
    {
      "cell_type": "code",
      "source": [
        "\n",
        "df['label'] = df['label'].str.strip().str.lower()\n",
        "\n",
        "label_encoder = LabelEncoder()\n",
        "df['label_encoded'] = label_encoder.fit_transform(df['label'])\n",
        "print(\"DataFrame after encoding labels:\")\n",
        "print(df.head())\n"
      ],
      "metadata": {
        "colab": {
          "base_uri": "https://localhost:8080/"
        },
        "id": "MFBFETqA5BjH",
        "outputId": "def5f702-0997-4dd9-a0c5-564201392f5d"
      },
      "execution_count": 3,
      "outputs": [
        {
          "output_type": "stream",
          "name": "stdout",
          "text": [
            "DataFrame after encoding labels:\n",
            "                              address  year  day  length    weight  count  \\\n",
            "0   111K8kZAEnJg245r2cM6y9zgJGHZtJPy6  2017   11      18  0.008333    1.0   \n",
            "1  1123pJv8jzeFQaCV4w644pzQJzVWay2zcA  2016  132      44  0.000244    1.0   \n",
            "2  112536im7hy6wtKbpH1qYDWtTyMRAcA2p7  2016  246       0  1.000000    1.0   \n",
            "3  1126eDRw2wqSkWosjTCre8cjjQW8sSeWH7  2016  322      72  0.003906    1.0   \n",
            "4  1129TSjKtx65E35GiUo4AYVeyo48twbrGX  2016  238     144  0.072848  456.0   \n",
            "\n",
            "   looped  neighbors       income            label  weight_binary  \\\n",
            "0     0.0        2.0  100050000.0  princetoncerber              0   \n",
            "1     0.0        1.0  100000000.0   princetonlocky              0   \n",
            "2     0.0        2.0  200000000.0  princetoncerber              0   \n",
            "3     0.0        2.0   71200000.0  princetoncerber              0   \n",
            "4     0.0        1.0  200000000.0   princetonlocky              0   \n",
            "\n",
            "   label_encoded  \n",
            "0              8  \n",
            "1              9  \n",
            "2              8  \n",
            "3              8  \n",
            "4              9  \n"
          ]
        }
      ]
    },
    {
      "cell_type": "code",
      "source": [
        "\n",
        "label_mapping = dict(zip(label_encoder.classes_, label_encoder.transform(label_encoder.classes_)))\n",
        "print(\"Label mapping:\")\n",
        "print(label_mapping)\n",
        "\n",
        "df.to_csv('processed_BHD1.csv', index=False)"
      ],
      "metadata": {
        "colab": {
          "base_uri": "https://localhost:8080/"
        },
        "id": "FZNaTwl45ELb",
        "outputId": "3dd7a0b4-1fa4-4d22-c8f9-83371d06e675"
      },
      "execution_count": 4,
      "outputs": [
        {
          "output_type": "stream",
          "name": "stdout",
          "text": [
            "Label mapping:\n",
            "{'montrealcryptolocker': 0, 'montrealcryptotorlocker2015': 1, 'montrealcryptxxx': 2, 'montrealdmalockerv3': 3, 'montrealflyper': 4, 'montrealsamsam': 5, 'montrealwannacry': 6, 'paduacryptowall': 7, 'princetoncerber': 8, 'princetonlocky': 9}\n"
          ]
        }
      ]
    }
  ]
}